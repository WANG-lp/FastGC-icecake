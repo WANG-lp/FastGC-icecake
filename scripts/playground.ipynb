{
 "cells": [
  {
   "cell_type": "code",
   "execution_count": null,
   "metadata": {},
   "outputs": [],
   "source": [
    "import numpy as np\n",
    "import types\n",
    "import collections\n",
    "from random import shuffle\n",
    "import PIL\n",
    "from PIL import Image\n",
    "import cupy as cp\n",
    "from timeit import default_timer as timer\n",
    "from matplotlib.pyplot import imshow\n",
    "import cv2\n",
    "import os\n",
    "from tqdm.notebook import trange, tqdm\n",
    "%matplotlib inline"
   ]
  },
  {
   "cell_type": "code",
   "execution_count": null,
   "metadata": {},
   "outputs": [],
   "source": [
    "file = \"/tmp/test.jpeg\""
   ]
  },
  {
   "cell_type": "code",
   "execution_count": null,
   "metadata": {},
   "outputs": [],
   "source": [
    "import torchvision.transforms as transforms\n",
    "import torchvision.transforms.functional as fc\n",
    "t1 = transforms.Compose([\n",
    "            transforms.RandomResizedCrop(224),\n",
    "            transforms.RandomHorizontalFlip()\n",
    "        ])\n",
    "t2 = transforms.Compose([\n",
    "            transforms.RandomResizedCrop(224),\n",
    "            transforms.RandomHorizontalFlip(),\n",
    "            transforms.ToTensor()\n",
    "        ])\n",
    "normalize = transforms.Normalize(mean=[0.485, 0.456, 0.406],\n",
    "                                     std=[0.229, 0.224, 0.225])\n",
    "t3 = transforms.Compose([\n",
    "            transforms.RandomResizedCrop(224),\n",
    "            transforms.RandomHorizontalFlip(),\n",
    "            transforms.ToTensor(),\n",
    "            normalize\n",
    "        ])\n"
   ]
  },
  {
   "cell_type": "code",
   "execution_count": null,
   "metadata": {},
   "outputs": [],
   "source": [
    "img = Image.open(file)# 读取图像"
   ]
  },
  {
   "cell_type": "code",
   "execution_count": null,
   "metadata": {},
   "outputs": [],
   "source": [
    "imshow(img)"
   ]
  },
  {
   "cell_type": "code",
   "execution_count": null,
   "metadata": {},
   "outputs": [],
   "source": [
    "tensor1 = t1(img)"
   ]
  },
  {
   "cell_type": "code",
   "execution_count": null,
   "metadata": {},
   "outputs": [],
   "source": [
    "tensor2 = t2(img)"
   ]
  },
  {
   "cell_type": "code",
   "execution_count": null,
   "metadata": {},
   "outputs": [],
   "source": [
    "tensor3 = t3(img)"
   ]
  },
  {
   "cell_type": "code",
   "execution_count": null,
   "metadata": {},
   "outputs": [],
   "source": [
    "tensor1"
   ]
  },
  {
   "cell_type": "code",
   "execution_count": null,
   "metadata": {},
   "outputs": [],
   "source": [
    "tensor2"
   ]
  },
  {
   "cell_type": "code",
   "execution_count": null,
   "metadata": {},
   "outputs": [],
   "source": [
    "tensor3"
   ]
  },
  {
   "cell_type": "code",
   "execution_count": null,
   "metadata": {},
   "outputs": [],
   "source": [
    "import sys"
   ]
  },
  {
   "cell_type": "code",
   "execution_count": null,
   "metadata": {},
   "outputs": [],
   "source": [
    "print(\"tensor1 size: {}\".format(sys.getsizeof(tensor1.tobytes())))"
   ]
  },
  {
   "cell_type": "code",
   "execution_count": null,
   "metadata": {},
   "outputs": [],
   "source": [
    "print(\"tensor2 size: {}\".format(tensor2.element_size() * tensor2.nelement()))"
   ]
  },
  {
   "cell_type": "code",
   "execution_count": null,
   "metadata": {},
   "outputs": [],
   "source": [
    "print(\"tensor3 size: {}\".format(tensor2.element_size() * tensor2.nelement()))"
   ]
  },
  {
   "cell_type": "code",
   "execution_count": null,
   "metadata": {},
   "outputs": [],
   "source": [
    "602112/150561."
   ]
  },
  {
   "cell_type": "code",
   "execution_count": null,
   "metadata": {},
   "outputs": [],
   "source": []
  },
  {
   "cell_type": "code",
   "execution_count": null,
   "metadata": {},
   "outputs": [],
   "source": [
    "\n",
    "    "
   ]
  },
  {
   "cell_type": "code",
   "execution_count": null,
   "metadata": {},
   "outputs": [],
   "source": [
    "def showImageFromRaw(fname):\n",
    "    with open(fname, 'r') as f:\n",
    "        lines = f.readlines()\n",
    "    height = int(lines[0])\n",
    "    width = int(lines[1])\n",
    "    print(height, width)\n",
    "    raw = []\n",
    "    for i in lines[2:]:\n",
    "        sp = i.rstrip().split(\" \")\n",
    "        r,g,b = sp[0],sp[1],sp[2]\n",
    "        raw.append([r,g,b])\n",
    "    raw = np.asarray(raw, dtype=np.uint8)\n",
    "    raw = raw.reshape(height, width, 3)\n",
    "    print(raw.shape)\n",
    "    return raw\n",
    "# r = showImageFromRaw(\"/tmp/out2.bin\")\n",
    "r2 = showImageFromRaw(\"/tmp/out.bin\")\n",
    "imshow(r2)"
   ]
  },
  {
   "cell_type": "code",
   "execution_count": null,
   "metadata": {},
   "outputs": [],
   "source": [
    "imshow(np.asarray(Image.open(\"../../jpeg_tutorial/data/house.jpg\")))"
   ]
  },
  {
   "cell_type": "code",
   "execution_count": null,
   "metadata": {},
   "outputs": [],
   "source": [
    "\n"
   ]
  },
  {
   "cell_type": "code",
   "execution_count": null,
   "metadata": {},
   "outputs": [],
   "source": []
  },
  {
   "cell_type": "code",
   "execution_count": null,
   "metadata": {},
   "outputs": [],
   "source": [
    "imgarray = np.asarray(img)"
   ]
  },
  {
   "cell_type": "code",
   "execution_count": null,
   "metadata": {},
   "outputs": [],
   "source": [
    "imgarray.shape"
   ]
  },
  {
   "cell_type": "code",
   "execution_count": null,
   "metadata": {},
   "outputs": [],
   "source": [
    "imgarray"
   ]
  },
  {
   "cell_type": "code",
   "execution_count": null,
   "metadata": {},
   "outputs": [],
   "source": [
    "ROOT_DIR=\"/mnt/optane-ssd/lipeng/imagenet/\"\n",
    "def get_filenames():\n",
    "    with open(\"/mnt/optane-ssd/lipeng/imagenet/train.txt\", 'r') as f:\n",
    "        lines = f.readlines()\n",
    "    fnames = []\n",
    "    for l in lines:\n",
    "        fnames.append(l.strip().split()[0])\n",
    "    return fnames\n",
    "\n",
    "fnames = get_filenames()"
   ]
  },
  {
   "cell_type": "code",
   "execution_count": null,
   "metadata": {},
   "outputs": [],
   "source": [
    "fnames[:10]"
   ]
  },
  {
   "cell_type": "code",
   "execution_count": null,
   "metadata": {},
   "outputs": [],
   "source": [
    "import subprocess\n",
    "def get_blocks(fname):\n",
    "    result = subprocess.run(\n",
    "                    ['/home/lwangay/workspace/FastGC-icecake/scripts/get_block_offset.bin', fname, \"/home/lwangay/workspace/FastGC-icecake/scripts/image_block_stat.txt\"], stdout=subprocess.PIPE)\n",
    "    print(result)\n",
    "\n",
    "get_blocks(ROOT_DIR+fnames[0])"
   ]
  },
  {
   "cell_type": "code",
   "execution_count": null,
   "metadata": {},
   "outputs": [],
   "source": [
    "import random\n",
    "random.shuffle(fnames)"
   ]
  },
  {
   "cell_type": "code",
   "execution_count": null,
   "metadata": {
    "tags": [
     "outputPrepend",
     "outputPrepend",
     "outputPrepend",
     "outputPrepend",
     "outputPrepend",
     "outputPrepend"
    ]
   },
   "outputs": [],
   "source": [
    "for f in fnames[:20]:\n",
    "    get_blocks(ROOT_DIR+f)"
   ]
  },
  {
   "cell_type": "code",
   "execution_count": null,
   "metadata": {},
   "outputs": [],
   "source": [
    "with open('image_block_stat.txt', 'r') as f:\n",
    "    lines = f.readlines()\n",
    "lines[:10]"
   ]
  },
  {
   "cell_type": "code",
   "execution_count": null,
   "metadata": {},
   "outputs": [],
   "source": [
    "image_stat = []\n",
    "block_diff = []\n",
    "count = -1\n",
    "for l in lines:\n",
    "    if l.startswith('==='):\n",
    "        count +=1\n",
    "        image_stat.append([])\n",
    "        block_diff.append([])\n",
    "        continue\n",
    "    if l.startswith(\"/mnt\"):\n",
    "        continue\n",
    "    if(l.startswith(\"\\n\")):\n",
    "        continue\n",
    "    units= l.rstrip().split(\" \")\n",
    "    # print(units)\n",
    "    dc_off = int(units[3])*8 + int(units[4][:-1])\n",
    "    ac_off = int(units[6])*8 + int(units[7])\n",
    "    # print(dc_off, ac_off)\n",
    "    # break\n",
    "    image_stat[count].append({'dc':dc_off, 'ac':ac_off})\n",
    "    if len(image_stat[count]) > 1:\n",
    "        block_diff[count].append(image_stat[count][-1]['dc'] - image_stat[count][-2]['dc'])"
   ]
  },
  {
   "cell_type": "code",
   "execution_count": null,
   "metadata": {
    "tags": [
     "outputPrepend"
    ]
   },
   "outputs": [],
   "source": [
    "from matplotlib import pyplot as plt\n",
    "import pandas as pd\n",
    "import numpy as np\n",
    "length=6\n",
    "width = 4\n",
    "plt.figure(figsize=(length,4))\n",
    "ax = plt.subplot(111)\n",
    "linestyles=['-','o-','v-','-s', 'p-','*-','d-','x','D','d','|','--','-.','.-',',-', '-o']\n",
    "linelables = ['1']\n",
    "node_list = [32, 64, 96, 128, 160]\n",
    "\n",
    "#x-axis间距\n",
    "# ax.xaxis.set_major_locator(MultipleLocator(5))\n",
    "xs = np.arange(0, len(block_diff[0]), 1)\n",
    "ax.plot(xs, block_diff[0],linestyles[0], linewidth=1.5, color='C'+str(0), alpha=0.9)\n",
    "ax.legend(loc=0)\n",
    "# ax.set_title('(b) rgg')\n",
    "ax.grid(True)\n",
    "# plt.locator_params(axis='x', nbins=15)\n",
    "plt.tight_layout()\n",
    "plt.show()"
   ]
  },
  {
   "cell_type": "code",
   "execution_count": null,
   "metadata": {},
   "outputs": [],
   "source": [
    "length=6\n",
    "width = 4\n",
    "plt.figure(figsize=(length,4))\n",
    "ax = plt.subplot(111)\n",
    "linestyles=['-','o-','v-','-s', 'p-','*-','d-','x','D','d','|','--','-.','.-',',-', '-o']\n",
    "linelables = ['1']\n",
    "node_list = [32, 64, 96, 128, 160]\n",
    "idx = 1\n",
    "#x-axis间距\n",
    "# ax.xaxis.set_major_locator(MultipleLocator(5))\n",
    "xs = np.arange(0, len(block_diff[idx]), 1)\n",
    "ax.plot(xs, block_diff[idx],linestyles[0], linewidth=1.5, color='C'+str(0), alpha=0.9)\n",
    "ax.legend(loc=0)\n",
    "# ax.set_title('(b) rgg')\n",
    "ax.grid(True)\n",
    "# plt.locator_params(axis='x', nbins=15)\n",
    "plt.tight_layout()\n",
    "plt.show()"
   ]
  },
  {
   "cell_type": "code",
   "execution_count": null,
   "metadata": {},
   "outputs": [],
   "source": [
    "length=6\n",
    "width = 4\n",
    "plt.figure(figsize=(length,4))\n",
    "ax = plt.subplot(111)\n",
    "linestyles=['-','o-','v-','-s', 'p-','*-','d-','x','D','d','|','--','-.','.-',',-', '-o']\n",
    "linelables = ['1']\n",
    "node_list = [32, 64, 96, 128, 160]\n",
    "idx = 2\n",
    "#x-axis间距\n",
    "# ax.xaxis.set_major_locator(MultipleLocator(5))\n",
    "xs = np.arange(0, len(block_diff[idx]), 1)\n",
    "ax.plot(xs, block_diff[idx],linestyles[0], linewidth=1.5, color='C'+str(0), alpha=0.9)\n",
    "ax.legend(loc=0)\n",
    "# ax.set_title('(b) rgg')\n",
    "ax.grid(True)\n",
    "# plt.locator_params(axis='x', nbins=15)\n",
    "plt.tight_layout()\n",
    "plt.show()"
   ]
  },
  {
   "cell_type": "code",
   "execution_count": null,
   "metadata": {},
   "outputs": [],
   "source": [
    "length=6\n",
    "width = 4\n",
    "plt.figure(figsize=(length,4))\n",
    "ax = plt.subplot(111)\n",
    "linestyles=['-','o-','v-','-s', 'p-','*-','d-','x','D','d','|','--','-.','.-',',-', '-o']\n",
    "linelables = ['1']\n",
    "node_list = [32, 64, 96, 128, 160]\n",
    "idx = 3\n",
    "#x-axis间距\n",
    "# ax.xaxis.set_major_locator(MultipleLocator(5))\n",
    "xs = np.arange(0, len(block_diff[idx]), 1)\n",
    "ax.plot(xs, block_diff[idx],linestyles[0], linewidth=1.5, color='C'+str(0), alpha=0.9)\n",
    "ax.legend(loc=0)\n",
    "# ax.set_title('(b) rgg')\n",
    "ax.grid(True)\n",
    "# plt.locator_params(axis='x', nbins=15)\n",
    "plt.tight_layout()\n",
    "plt.show()"
   ]
  },
  {
   "cell_type": "code",
   "execution_count": null,
   "metadata": {},
   "outputs": [],
   "source": [
    "length=6\n",
    "width = 4\n",
    "plt.figure(figsize=(length,4))\n",
    "ax = plt.subplot(111)\n",
    "linestyles=['-','o-','v-','-s', 'p-','*-','d-','x','D','d','|','--','-.','.-',',-', '-o']\n",
    "linelables = ['1']\n",
    "node_list = [32, 64, 96, 128, 160]\n",
    "idx = 4\n",
    "#x-axis间距\n",
    "# ax.xaxis.set_major_locator(MultipleLocator(5))\n",
    "xs = np.arange(0, len(block_diff[idx]), 1)\n",
    "ax.plot(xs, block_diff[idx],linestyles[0], linewidth=1.5, color='C'+str(0), alpha=0.9)\n",
    "ax.legend(loc=0)\n",
    "# ax.set_title('(b) rgg')\n",
    "ax.grid(True)\n",
    "# plt.locator_params(axis='x', nbins=15)\n",
    "plt.tight_layout()\n",
    "plt.show()"
   ]
  },
  {
   "cell_type": "code",
   "execution_count": null,
   "metadata": {},
   "outputs": [],
   "source": [
    "length=6\n",
    "width = 4\n",
    "plt.figure(figsize=(length,4))\n",
    "ax = plt.subplot(111)\n",
    "linestyles=['-','o-','v-','-s', 'p-','*-','d-','x','D','d','|','--','-.','.-',',-', '-o']\n",
    "linelables = ['1']\n",
    "node_list = [32, 64, 96, 128, 160]\n",
    "idx = 5\n",
    "#x-axis间距\n",
    "# ax.xaxis.set_major_locator(MultipleLocator(5))\n",
    "xs = np.arange(0, len(block_diff[idx]), 1)\n",
    "ax.plot(xs, block_diff[idx],linestyles[0], linewidth=1.5, color='C'+str(0), alpha=0.9)\n",
    "ax.legend(loc=0)\n",
    "# ax.set_title('(b) rgg')\n",
    "ax.grid(True)\n",
    "# plt.locator_params(axis='x', nbins=15)\n",
    "plt.tight_layout()\n",
    "plt.show()"
   ]
  },
  {
   "cell_type": "code",
   "execution_count": null,
   "metadata": {},
   "outputs": [],
   "source": [
    "length=6\n",
    "width = 4\n",
    "plt.figure(figsize=(length,4))\n",
    "ax = plt.subplot(111)\n",
    "linestyles=['-','o-','v-','-s', 'p-','*-','d-','x','D','d','|','--','-.','.-',',-', '-o']\n",
    "linelables = ['1']\n",
    "node_list = [32, 64, 96, 128, 160]\n",
    "idx = 6\n",
    "#x-axis间距\n",
    "# ax.xaxis.set_major_locator(MultipleLocator(5))\n",
    "xs = np.arange(0, len(block_diff[idx]), 1)\n",
    "ax.plot(xs, block_diff[idx],linestyles[0], linewidth=1.5, color='C'+str(0), alpha=0.9)\n",
    "ax.legend(loc=0)\n",
    "\n",
    "# ax.set_title('(b) rgg')\n",
    "ax.grid(True)\n",
    "# plt.locator_params(axis='x', nbins=15)\n",
    "plt.tight_layout()\n",
    "plt.show()\n"
   ]
  },
  {
   "cell_type": "code",
   "execution_count": null,
   "metadata": {},
   "outputs": [],
   "source": [
    "length=6\n",
    "width = 4\n",
    "plt.figure(figsize=(length,4))\n",
    "ax = plt.subplot(111)\n",
    "linestyles=['-','o-','v-','-s', 'p-','*-','d-','x','D','d','|','--','-.','.-',',-', '-o']\n",
    "linelables = ['1']\n",
    "node_list = [32, 64, 96, 128, 160]\n",
    "idx = 7\n",
    "#x-axis间距\n",
    "# ax.xaxis.set_major_locator(MultipleLocator(5))\n",
    "xs = np.arange(0, len(block_diff[idx]), 1)\n",
    "ax.plot(xs, block_diff[idx],linestyles[0], linewidth=1.5, color='C'+str(0), alpha=0.9)\n",
    "ax.legend(loc=0)\n",
    "# ax.set_title('(b) rgg')\n",
    "ax.grid(True)\n",
    "# plt.locator_params(axis='x', nbins=15)\n",
    "plt.tight_layout()\n",
    "plt.show()"
   ]
  },
  {
   "cell_type": "code",
   "execution_count": null,
   "metadata": {},
   "outputs": [],
   "source": []
  }
 ],
 "metadata": {
  "file_extension": ".py",
  "kernelspec": {
   "display_name": "Python 3",
   "language": "python",
   "name": "python3"
  },
  "language_info": {
   "codemirror_mode": {
    "name": "ipython",
    "version": 3
   },
   "file_extension": ".py",
   "mimetype": "text/x-python",
   "name": "python",
   "nbconvert_exporter": "python",
   "pygments_lexer": "ipython3",
   "version": "3.7.6"
  },
  "mimetype": "text/x-python",
  "name": "python",
  "npconvert_exporter": "python",
  "pygments_lexer": "ipython3",
  "version": 3
 },
 "nbformat": 4,
 "nbformat_minor": 2
}
